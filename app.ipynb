{
    "cells": [
        {
            "cell_type": "code",
            "execution_count": null,
            "metadata": {},
            "outputs": [
                {
                    "name": "stdout",
                    "output_type": "stream",
                    "text": [
                        " * Serving Flask app '__main__'\n",
                        " * Debug mode: on\n"
                    ]
                },
                {
                    "name": "stderr",
                    "output_type": "stream",
                    "text": [
                        "WARNING: This is a development server. Do not use it in a production deployment. Use a production WSGI server instead.\n",
                        " * Running on http://127.0.0.1:5000\n",
                        "Press CTRL+C to quit\n",
                        " * Restarting with watchdog (windowsapi)\n"
                    ]
                }
            ],
            "source": [
                "from flask import Flask, render_template, request\n",
                "import pandas as pd\n",
                "import os\n",
                "\n",
                "app = Flask(__name__)\n",
                "\n",
                "@app.route('/')\n",
                "def index():\n",
                "    return render_template('index.html')\n",
                "\n",
                "@app.route('/import_data', methods=['POST'])\n",
                "def import_data():\n",
                "    if request.method == 'POST':\n",
                "        # Lấy đường dẫn thư mục từ form\n",
                "        folder_path = request.form['folder_path']\n",
                "        \n",
                "        # Đọc các file CSV trong thư mục\n",
                "        dataframes = read_csv_files_in_folder(folder_path)\n",
                "        \n",
                "        # Thực hiện xử lý dữ liệu hoặc lưu trữ chúng tùy ý\n",
                "        \n",
                "        return \"Dữ liệu đã được import thành công từ thư mục: {}\".format(folder_path)\n",
                "\n",
                "def read_csv_files_in_folder(folder_path):\n",
                "    dfs = []\n",
                "    for file_name in os.listdir(folder_path):\n",
                "        if file_name.endswith('.csv'):\n",
                "            file_path = os.path.join(folder_path, file_name)\n",
                "            df = pd.read_csv(file_path)\n",
                "            dfs.append(df)\n",
                "    return dfs\n",
                "\n",
                "if __name__ == '__main__':\n",
                "    app.run(debug=True)\n",
                "\n"
            ]
        },
        {
            "cell_type": "code",
            "execution_count": null,
            "metadata": {},
            "outputs": [],
            "source": []
        }
    ],
    "metadata": {
        "kernelspec": {
            "display_name": "Python 3",
            "language": "python",
            "name": "python3"
        },
        "language_info": {
            "codemirror_mode": {
                "name": "ipython",
                "version": 3
            },
            "file_extension": ".py",
            "mimetype": "text/x-python",
            "name": "python",
            "nbconvert_exporter": "python",
            "pygments_lexer": "ipython3",
            "version": "3.12.0"
        }
    },
    "nbformat": 4,
    "nbformat_minor": 2
}

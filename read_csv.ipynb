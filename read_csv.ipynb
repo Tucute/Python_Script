{
 "cells": [
  {
   "cell_type": "code",
   "execution_count": 5,
   "metadata": {},
   "outputs": [],
   "source": [
    "\n",
    "import pandas as pd\n",
    "import numpy as np\n",
    "\n",
    "def read_and_sort_csv(input_file, output_file, sort_columns):\n",
    "    # Đọc DataFrame từ tệp CSV\n",
    "    df = pd.read_csv(input_file, sep='\\t')\n",
    "    \n",
    "    # Sắp xếp DataFrame theo các cột được chỉ định và xử lý vị trí của các giá trị NaN\n",
    "    df_sorted = custom_sort_by_columns(df, sort_columns)\n",
    "    \n",
    "    # Ghi DataFrame đã sắp xếp vào tệp CSV\n",
    "    df_sorted.to_csv(output_file, sep='\\t', index=False)\n",
    "\n",
    "def custom_sort_by_columns(df, sort_columns):\n",
    "    # Tạo một cột trạng thái để xác định liệu hàng có chứa toàn bộ giá trị NaN hay không\n",
    "    df['all_nan'] = df[sort_columns].isnull().all(axis=1)\n",
    "    \n",
    "    # Sắp xếp DataFrame theo các cột được chỉ định\n",
    "    df_sorted = df.sort_values(by=sort_columns, na_position='first')\n",
    "    \n",
    "    # Lấy danh sách các chỉ số hàng có tất cả giá trị NaN\n",
    "    all_nan_indices = df_sorted[df_sorted['all_nan']].index.tolist()\n",
    "    \n",
    "    # Di chuyển các hàng có tất cả giá trị NaN lên đầu tiên\n",
    "    df_sorted = pd.concat([df_sorted.loc[all_nan_indices], df_sorted.loc[~df_sorted['all_nan']]])\n",
    "    \n",
    "    # Loại bỏ cột trạng thái 'all_nan' ra khỏi DataFrame đã sắp xếp\n",
    "    df_sorted.drop(columns=['all_nan'], inplace=True)\n",
    "    \n",
    "    return df_sorted\n",
    "\n",
    "# Đường dẫn đến tệp CSV đầu vào\n",
    "input_file_path = 'B_SS00_SS04_09_TT_CONCAT_ACCT_DESCS.csv'\n",
    "\n",
    "# Đường dẫn đến tệp CSV đầu ra\n",
    "output_file_path = 'Test2.csv'\n",
    "\n",
    "# Các cột sắp xếp\n",
    "columns_to_sort_by = ['ZF_ACCDESC_KTOPL', 'ZF_ACCDESC_SAKNR', 'ZF_SAKNR_CONFIG_DESC']\n",
    "\n",
    "# Gọi hàm để đọc và sắp xếp tệp CSV\n",
    "read_and_sort_csv(input_file_path, output_file_path, columns_to_sort_by)\n"
   ]
  }
 ],
 "metadata": {
  "kernelspec": {
   "display_name": "Python 3",
   "language": "python",
   "name": "python3"
  },
  "language_info": {
   "codemirror_mode": {
    "name": "ipython",
    "version": 3
   },
   "file_extension": ".py",
   "mimetype": "text/x-python",
   "name": "python",
   "nbconvert_exporter": "python",
   "pygments_lexer": "ipython3",
   "version": "3.12.2"
  }
 },
 "nbformat": 4,
 "nbformat_minor": 2
}
